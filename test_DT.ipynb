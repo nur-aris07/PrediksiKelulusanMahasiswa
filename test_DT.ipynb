{
  "nbformat": 4,
  "nbformat_minor": 0,
  "metadata": {
    "colab": {
      "provenance": []
    },
    "kernelspec": {
      "name": "python3",
      "display_name": "Python 3"
    },
    "language_info": {
      "name": "python"
    }
  },
  "cells": [
    {
      "cell_type": "code",
      "execution_count": null,
      "metadata": {
        "id": "a19YOi_Sxmuz"
      },
      "outputs": [],
      "source": [
        "import pandas as pd\n",
        "import numpy as np\n",
        "from sklearn import tree\n",
        "from sklearn.tree import DecisionTreeClassifier\n",
        "import matplotlib.pyplot as plt"
      ]
    },
    {
      "cell_type": "code",
      "source": [
        "%cd /content/drive/MyDrive/Colab Notebooks"
      ],
      "metadata": {
        "colab": {
          "base_uri": "https://localhost:8080/"
        },
        "id": "qjOO22cNyl5a",
        "outputId": "49405356-e2d5-43ba-ef31-b55729180264"
      },
      "execution_count": null,
      "outputs": [
        {
          "output_type": "stream",
          "name": "stdout",
          "text": [
            "/content/drive/MyDrive/Colab Notebooks\n"
          ]
        }
      ]
    },
    {
      "cell_type": "code",
      "source": [
        "data = pd.read_csv(\"datakelulusanmahasiswa.csv\",sep=\";\")\n",
        "print(data)"
      ],
      "metadata": {
        "colab": {
          "base_uri": "https://localhost:8080/"
        },
        "id": "HO4pQUdOxykZ",
        "outputId": "d8752726-cb22-4289-80c3-2c2364398bb8"
      },
      "execution_count": null,
      "outputs": [
        {
          "output_type": "stream",
          "name": "stdout",
          "text": [
            "                            NAMA JENIS KELAMIN STATUS MAHASISWA  UMUR  \\\n",
            "0                 ANIK WIDAYANTI     PEREMPUAN          BEKERJA    28   \n",
            "1        DWI HESTYNA PRIHASTANTY     PEREMPUAN        MAHASISWA    32   \n",
            "2             MURYA ARIEF BASUKI     PEREMPUAN          BEKERJA    29   \n",
            "3                  NANIK SUSANTI     PEREMPUAN        MAHASISWA    27   \n",
            "4              RIFKA ISTIQFARINA     PEREMPUAN          BEKERJA    29   \n",
            "..                           ...           ...              ...   ...   \n",
            "374           ARY JULI SETIYANTO   LAKI - LAKI        MAHASISWA    23   \n",
            "375          RINA ZAHROTUL UMAMI     PEREMPUAN          BEKERJA    23   \n",
            "376  TULISA WAHYUHADI KRISNATAMI     PEREMPUAN        MAHASISWA    23   \n",
            "377              NI'MATUL JANNAH     PEREMPUAN        MAHASISWA    23   \n",
            "378        DINDU SETYO WICAKSONO   LAKI - LAKI        MAHASISWA    23   \n",
            "\n",
            "      STATUS NIKAH IPS 1 IPS 2 IPS 3 IPS 4 IPS 5 IPS 6 IPS 7 IPS 8  IPK   \\\n",
            "0    BELUM MENIKAH  2,76   2,8   3,2  3,17  2,98     3  3,03     0  3,07   \n",
            "1    BELUM MENIKAH     3   3,3  3,14  3,14  2,84  3,13  3,25     0  3,17   \n",
            "2    BELUM MENIKAH   3,5   3,3   3,7  3,29  3,53  3,72  3,73     0  3,54   \n",
            "3    BELUM MENIKAH  3,17  3,41  3,61  3,36  3,48  3,63  3,46     0  3,41   \n",
            "4    BELUM MENIKAH   2,9  2,89   3,3  2,85  2,98     3  3,08     0  3,09   \n",
            "..             ...   ...   ...   ...   ...   ...   ...   ...   ...   ...   \n",
            "374  BELUM MENIKAH  1,98   2,5  2,14  2,77  2,61  2,93  2,82   2,5  0,99   \n",
            "375  BELUM MENIKAH  2,74  2,75  2,55     3  2,98   2,8  3,14     3  2,97   \n",
            "376  BELUM MENIKAH  2,74  2,75  2,55     3  2,98   2,8  3,14     3  3,03   \n",
            "377  BELUM MENIKAH  3,02  2,94  3,25  2,87     3  2,94  3,09     3  3,16   \n",
            "378  BELUM MENIKAH   3,1  3,06     3  3,23  2,79     3  2,41     3  2,16   \n",
            "\n",
            "    STATUS KELULUSAN  \n",
            "0          TERLAMBAT  \n",
            "1          TERLAMBAT  \n",
            "2          TERLAMBAT  \n",
            "3          TERLAMBAT  \n",
            "4          TERLAMBAT  \n",
            "..               ...  \n",
            "374            TEPAT  \n",
            "375            TEPAT  \n",
            "376            TEPAT  \n",
            "377            TEPAT  \n",
            "378            TEPAT  \n",
            "\n",
            "[379 rows x 15 columns]\n"
          ]
        }
      ]
    },
    {
      "cell_type": "code",
      "source": [
        "print(data[\"STATUS KELULUSAN\"])"
      ],
      "metadata": {
        "id": "-GCbXbMjzBgJ",
        "colab": {
          "base_uri": "https://localhost:8080/"
        },
        "outputId": "1f968291-9d51-4a72-a461-31bfd9592933"
      },
      "execution_count": null,
      "outputs": [
        {
          "output_type": "stream",
          "name": "stdout",
          "text": [
            "0      TERLAMBAT\n",
            "1      TERLAMBAT\n",
            "2      TERLAMBAT\n",
            "3      TERLAMBAT\n",
            "4      TERLAMBAT\n",
            "         ...    \n",
            "374        TEPAT\n",
            "375        TEPAT\n",
            "376        TEPAT\n",
            "377        TEPAT\n",
            "378        TEPAT\n",
            "Name: STATUS KELULUSAN, Length: 379, dtype: object\n"
          ]
        }
      ]
    },
    {
      "cell_type": "code",
      "source": [
        "features = ['JENIS KELAMIN', 'IPS 1', 'IPS 2', 'IPS 3', 'IPS 4', 'IPS 5', 'IPS 6']\n",
        "\n",
        "# kamus = {'<2,5':0,'>=2,5':1}\n",
        "for i in range(len(features[1:])):\n",
        "  s = data[features[i+1:i+2][0]]\n",
        "  # print(len(s))\n",
        "  for j in range(len(s)):\n",
        "    temp = data[features[i+1:i+2][0]][j].replace(',','.')\n",
        "    # print(temp)\n",
        "    if float(temp)<2:\n",
        "      data[features[i+1:i+2][0]][j] = 0\n",
        "    elif float(temp)<2.5:\n",
        "      data[features[i+1:i+2][0]][j] = 1\n",
        "    else:\n",
        "      data[features[i+1:i+2][0]][j] = 2\n",
        "\n",
        "kamus = {'LAKI - LAKI':0,'PEREMPUAN':1}\n",
        "data['JENIS KELAMIN'] = data['JENIS KELAMIN'].map(kamus)"
      ],
      "metadata": {
        "colab": {
          "base_uri": "https://localhost:8080/"
        },
        "id": "AZWPWclG6lWX",
        "outputId": "1050bcb6-3fc3-406d-cff1-98ecac3ae6bc"
      },
      "execution_count": null,
      "outputs": [
        {
          "output_type": "stream",
          "name": "stderr",
          "text": [
            "<ipython-input-5-a60492f3e461>:15: SettingWithCopyWarning: \n",
            "A value is trying to be set on a copy of a slice from a DataFrame\n",
            "\n",
            "See the caveats in the documentation: https://pandas.pydata.org/pandas-docs/stable/user_guide/indexing.html#returning-a-view-versus-a-copy\n",
            "  data[features[i+1:i+2][0]][j] = 2\n",
            "<ipython-input-5-a60492f3e461>:13: SettingWithCopyWarning: \n",
            "A value is trying to be set on a copy of a slice from a DataFrame\n",
            "\n",
            "See the caveats in the documentation: https://pandas.pydata.org/pandas-docs/stable/user_guide/indexing.html#returning-a-view-versus-a-copy\n",
            "  data[features[i+1:i+2][0]][j] = 1\n",
            "<ipython-input-5-a60492f3e461>:11: SettingWithCopyWarning: \n",
            "A value is trying to be set on a copy of a slice from a DataFrame\n",
            "\n",
            "See the caveats in the documentation: https://pandas.pydata.org/pandas-docs/stable/user_guide/indexing.html#returning-a-view-versus-a-copy\n",
            "  data[features[i+1:i+2][0]][j] = 0\n"
          ]
        }
      ]
    },
    {
      "cell_type": "code",
      "source": [
        "X = data[features]\n",
        "y = data[\"STATUS KELULUSAN\"]\n",
        "\n",
        "# Skenario pertama split data 80:20\n",
        "Xtest_1 = X[:round(len(X)*0.2)]\n",
        "ytest_1 = y[:round(len(X)*0.2)]\n",
        "Xtrain_1 = X[len(Xtest_1):]\n",
        "ytrain_1 = y[len(Xtest_1):]\n",
        "\n",
        "# Skenario kedua split data 70:30\n",
        "Xtest_2 = X[:round(len(X)*0.3)]\n",
        "ytest_2 = y[:round(len(X)*0.3)]\n",
        "Xtrain_2 = X[len(Xtest_2):]\n",
        "ytrain_2 = y[len(Xtest_2):]\n",
        "\n",
        "# Skenario kedua split data 90:10\n",
        "Xtest_3 = X[:round(len(X)*0.1)]\n",
        "ytest_3 = y[:round(len(X)*0.1)]\n",
        "Xtrain_3 = X[len(Xtest_3):]\n",
        "ytrain_3 = y[len(Xtest_3):]\n",
        "\n",
        "dtree1 = DecisionTreeClassifier()\n",
        "dtree2 = DecisionTreeClassifier()\n",
        "dtree3 = DecisionTreeClassifier()\n",
        "\n",
        "dtree1 = dtree1.fit(Xtrain_1, ytrain_1)\n",
        "dtree2 = dtree2.fit(Xtrain_2, ytrain_2)\n",
        "dtree3 = dtree3.fit(Xtrain_3, ytrain_3)"
      ],
      "metadata": {
        "id": "4xaO7O6CrS1K"
      },
      "execution_count": null,
      "outputs": []
    },
    {
      "cell_type": "code",
      "source": [
        "test_dtree1 = dtree1.predict(Xtest_1)\n",
        "test_dtree2 = dtree2.predict(Xtest_2)\n",
        "test_dtree3 = dtree3.predict(Xtest_3)"
      ],
      "metadata": {
        "id": "gmzbG0EE8QyY"
      },
      "execution_count": null,
      "outputs": []
    },
    {
      "cell_type": "code",
      "source": [
        "from sklearn import metrics"
      ],
      "metadata": {
        "id": "MyT7GFv5rbgK"
      },
      "execution_count": null,
      "outputs": []
    },
    {
      "cell_type": "code",
      "source": [
        "cm_case1 = metrics.confusion_matrix(ytest_1,test_dtree1)\n",
        "accuracy1 = (cm_case1[0][0]+cm_case1[1][1]) / len(Xtest_1)\n",
        "cm_case2 = metrics.confusion_matrix(ytest_2,test_dtree2)\n",
        "accuracy2 = (cm_case2[0][0]+cm_case2[1][1]) / len(Xtest_2)\n",
        "cm_case3 = metrics.confusion_matrix(ytest_3,test_dtree3)\n",
        "accuracy3 = (cm_case3[0][0]+cm_case3[1][1]) / len(Xtest_3)\n",
        "print(accuracy1,accuracy2,accuracy3)\n",
        "# print(cm_case3)"
      ],
      "metadata": {
        "colab": {
          "base_uri": "https://localhost:8080/"
        },
        "id": "uGf2FIgN4NbU",
        "outputId": "ceb7d9b3-7487-4268-b4eb-5b4109375505"
      },
      "execution_count": null,
      "outputs": [
        {
          "output_type": "stream",
          "name": "stdout",
          "text": [
            "0.47368421052631576 0.41228070175438597 0.3684210526315789\n"
          ]
        }
      ]
    },
    {
      "cell_type": "code",
      "source": [
        "from sklearn.model_selection import cross_val_score\n",
        "\n",
        "# cek model cross validation\n",
        "dtree_model = DecisionTreeClassifier()\n",
        "dtree_test1 = cross_val_score(dtree_model, X,y,scoring='accuracy',cv=5).mean()\n",
        "dtree_test2 = cross_val_score(dtree_model, X,y,scoring='accuracy',cv=10).mean()\n",
        "print(dtree_test1,dtree_test2)"
      ],
      "metadata": {
        "colab": {
          "base_uri": "https://localhost:8080/"
        },
        "id": "bDXzbuYd4j7d",
        "outputId": "c79c17a5-dd07-44a5-96ee-034698ea7ef7"
      },
      "execution_count": null,
      "outputs": [
        {
          "output_type": "stream",
          "name": "stdout",
          "text": [
            "0.7071228070175438 0.7147937411095306\n"
          ]
        }
      ]
    },
    {
      "cell_type": "code",
      "source": [
        "X1 = data[features[1:-1]]\n",
        "X2 = data[features[1:-2]]\n",
        "X3 = data[features[1:-3]]\n",
        "\n",
        "test1 = cross_val_score(dtree_model, X1,y,scoring='accuracy',cv=10).mean()\n",
        "test2 = cross_val_score(dtree_model, X2,y,scoring='accuracy',cv=10).mean()\n",
        "test3 = cross_val_score(dtree_model, X3,y,scoring='accuracy',cv=10).mean()\n",
        "\n",
        "\n",
        "print(test1, test2, test3)"
      ],
      "metadata": {
        "colab": {
          "base_uri": "https://localhost:8080/"
        },
        "id": "kQACZz5q_pob",
        "outputId": "3693bcde-4b95-48b7-a6a7-e83f7f3f1d1c"
      },
      "execution_count": null,
      "outputs": [
        {
          "output_type": "stream",
          "name": "stdout",
          "text": [
            "0.7543385490753911 0.6463015647226173 0.6409672830725462\n"
          ]
        }
      ]
    },
    {
      "cell_type": "code",
      "source": [
        "show_eval = {\n",
        "    'y':[accuracy1,accuracy2,accuracy3,dtree_test1,dtree_test2,test1,test2,test3],\n",
        "    'x':['Skenario 1.1','Skenario 1.2','Skenario 1.3','Skenario 2.1','Skenario 2.2','Skenario 3.1','Skenario 3.2','Skenario 3.3']}\n",
        "dataFrame = pd.DataFrame(data=show_eval);\n",
        "dataFrame.plot.bar(x=\"x\", y=\"y\", rot=70, title=\"Akurasi Sistem\");\n",
        "plt.show(block=True);"
      ],
      "metadata": {
        "id": "KlImdxtbBPZM",
        "colab": {
          "base_uri": "https://localhost:8080/",
          "height": 347
        },
        "outputId": "d9691491-aeeb-44de-8e02-3d7202a56605"
      },
      "execution_count": null,
      "outputs": [
        {
          "output_type": "display_data",
          "data": {
            "text/plain": [
              "<Figure size 432x288 with 1 Axes>"
            ],
            "image/png": "[encoded data removed]"
          },
          "metadata": {
            "needs_background": "light"
          }
        }
      ]
    }
  ]
}